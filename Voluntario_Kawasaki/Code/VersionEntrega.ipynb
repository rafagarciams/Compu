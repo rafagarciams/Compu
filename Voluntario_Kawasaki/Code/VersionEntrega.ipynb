{
 "cells": [
  {
   "cell_type": "code",
   "execution_count": 1,
   "id": "0f8ccc94",
   "metadata": {},
   "outputs": [],
   "source": [
    "# Celda 1: Imports, semilla y configuración de hilos\n",
    "\n",
    "import numpy as np                      # Celdas: 2,3,4,5,6,7,8 (NP arrays, random choice with rng)\n",
    "import matplotlib.pyplot as plt         # Celdas: 2,6,7,8 (Visualización, gráficos, animación)\n",
    "import time                             # Celda: 5 (Medición de tiempos)\n",
    "from tqdm import tqdm                   # Celda: 5 (Barra de progreso, opcional)\n",
    "import argparse                         # Celdas: 1 (parseo de argumentos)\n",
    "import sys                              # Para obtener argv en parse_known_args\n",
    "from numba import njit, set_num_threads, get_num_threads, prange\n",
    "import os                               # Para obtener el número de hilos disponibles\n",
    "import h5py  # Para guardar resultados en formato HDF5\n",
    "import subprocess, threading, re, math # Última celda para la generación del video\n",
    "\n",
    "np.set_printoptions(threshold=np.inf, linewidth=200)\n",
    "\n",
    "# ─── Configuración de semilla para reproducibilidad ──────────────────────────\n",
    "seed = None                             # None = usar entropía del sistema\n",
    "rng  = np.random.default_rng(seed)      # PCG64 RNG: seguro y adecuado para simulaciones\n",
    "\n",
    "def establecer_numero_hilos(threads_percentage):\n",
    "    #Establecemos el número de hilos a usar asegurándonos de que no exceda el número de hilos disponibles ni sea menor a 1\n",
    "    n_threads_available = os.cpu_count()\n",
    "    if n_threads_available is None:\n",
    "        n_threads_available = 1  # Si no se puede determinar, usar al menos 1 hilo\n",
    "    threads_percentage = max(1, min(100, threads_percentage))\n",
    "    set_num_threads(int(n_threads_available*(threads_percentage / 100.0)))\n",
    "    n_threads = get_num_threads()\n",
    "    print(f\"Usando {n_threads} hilos de {n_threads_available} disponibles ({threads_percentage}%).\")\n"
   ]
  }
 ],
 "metadata": {
  "kernelspec": {
   "display_name": "ising-kawasaki",
   "language": "python",
   "name": "python3"
  },
  "language_info": {
   "codemirror_mode": {
    "name": "ipython",
    "version": 3
   },
   "file_extension": ".py",
   "mimetype": "text/x-python",
   "name": "python",
   "nbconvert_exporter": "python",
   "pygments_lexer": "ipython3",
   "version": "3.12.8"
  }
 },
 "nbformat": 4,
 "nbformat_minor": 5
}
