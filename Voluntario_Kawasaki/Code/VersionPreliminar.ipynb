{
 "cells": [
  {
   "cell_type": "code",
   "execution_count": 1,
   "id": "bb5435c0",
   "metadata": {},
   "outputs": [],
   "source": [
    "# Celda 1: Imports y parámetros y argparse para variables desde terminal\n",
    "import numpy as np                      # Celdas: 2,3,4,5,6,7,8 (NP arrays, random choice with rng)\n",
    "import matplotlib.pyplot as plt         # Celdas: 2,6,7,8 (Visualización, gráficos, animación)\n",
    "import time                             # Celda: 5 (Medición de tiempos)\n",
    "from tqdm import tqdm                   # Celda: 5 (Barra de progreso, opcional)\n",
    "import argparse                         # Celdas: 1 (parseo de argumentos)\n",
    "import sys                              # Para obtener argv en parse_known_args\n",
    "\n",
    "# ─── Funciones de validación de argumentos ─────────────────────────────────\n",
    "def positive_int(value):\n",
    "    try:\n",
    "        iv = int(value)\n",
    "    except ValueError:\n",
    "        raise argparse.ArgumentTypeError(f\"Valor inválido para argumento entero: '{value}'\")\n",
    "    if iv <= 0:\n",
    "        raise argparse.ArgumentTypeError(f\"El valor debe ser un entero positivo: {iv}\")\n",
    "    return iv\n",
    "\n",
    "# ─── Análisis de argumentos (compatibilidad Jupyter) ──────────────────────────\n",
    "parser = argparse.ArgumentParser(\n",
    "    description='Simulación Monte Carlo de Ising 2D con dinámica de Kawasaki')\n",
    "parser.add_argument('--L',       type=positive_int, default=25,    help='Tamaño de la red LxL (entero positivo)')\n",
    "parser.add_argument('--J',       type=float,       default=1.0,   help='Constante de acoplamiento')\n",
    "parser.add_argument('--T',       type=float,       default=2.269, help='Temperatura (k_B=1)')\n",
    "parser.add_argument('--n_sweeps',type=positive_int, default=1000,  help='Número de barridos Monte Carlo (entero positivo)')\n",
    "parser.add_argument('--seed',    type=int,         default=None,  help='Semilla para RNG (None: entropía)')\n",
    "# parse_known_args ignora flags desconocidos (como los de Jupyter)\n",
    "args, _ = parser.parse_known_args(sys.argv[1:])\n",
    "\n",
    "# ─── Parámetros del modelo ────────────────────────────────────────────────────\n",
    "L        = args.L\n",
    "J        = args.J\n",
    "T        = args.T\n",
    "n_sweeps = args.n_sweeps\n",
    "\n",
    "# ─── Configuración de semilla para reproducibilidad ──────────────────────────\n",
    "seed = args.seed                       # None = usar entropía del sistema\n",
    "rng  = np.random.default_rng(seed)     # PCG64 RNG: seguro y adecuado para simulaciones\n"
   ]
  },
  {
   "cell_type": "code",
   "execution_count": 53,
   "id": "5ce3b8d3",
   "metadata": {},
   "outputs": [
    {
     "data": {
      "image/png": "[encoded data removed]",
      "text/plain": [
       "<Figure size 500x500 with 1 Axes>"
      ]
     },
     "metadata": {},
     "output_type": "display_data"
    }
   ],
   "source": [
    "# ─── Celda 2: Inicialización de la red y visualización ───────────────────────\n",
    "# Generar configuración inicial aleatoria de espines ±1\n",
    "def init_config(L, rng):\n",
    "    \"\"\"\n",
    "    Crea una matriz L×L de espines aleatorios ±1 usando el RNG proporcionado.\n",
    "    \"\"\"\n",
    "    return rng.choice([1, -1], size=(L, L))\n",
    "\n",
    "# Crear configuración y mostrarla\n",
    "config = init_config(L, rng)\n",
    "plt.figure(figsize=(5,5))\n",
    "plt.imshow(config, cmap='gray', interpolation='nearest')\n",
    "plt.title(f'Configuración inicial aleatoria (L={L})')\n",
    "plt.axis('off')\n",
    "plt.show()\n"
   ]
  },
  {
   "cell_type": "code",
   "execution_count": 59,
   "id": "df771cb7",
   "metadata": {},
   "outputs": [
    {
     "name": "stdout",
     "output_type": "stream",
     "text": [
      "Energía inicial: 50.00, Magnetización inicial: 17\n"
     ]
    }
   ],
   "source": [
    "# ─── Celda 3: Definición de observables termodinámicos ─────────────────────\n",
    "\n",
    "def energy(config, J=J):\n",
    "    \"\"\"\n",
    "    Calcula la energía total del modelo de Ising 2D con contorno periódico.\n",
    "    \"\"\"\n",
    "    # Enlaces derecha e inferior para contar cada par una sola vez\n",
    "    right = np.roll(config, -1, axis=1)\n",
    "    down  = np.roll(config, -1, axis=0)\n",
    "    return -J * np.sum(config * (right + down))\n",
    "\n",
    "\n",
    "def magnetization(config):\n",
    "    \"\"\"\n",
    "    Calcula la magnetización total del sistema.\n",
    "    \"\"\"\n",
    "    return np.sum(config)\n",
    "\n",
    "# Ejemplo de uso en Celda 3\n",
    "E0 = energy(config)\n",
    "M0 = magnetization(config)\n",
    "print(f\"Energía inicial: {E0:.2f}, Magnetización inicial: {M0}\")\n"
   ]
  },
  {
   "cell_type": "code",
   "execution_count": 64,
   "id": "ec95b870",
   "metadata": {},
   "outputs": [],
   "source": [
    "# ─── Celda 4: Generación de Matriz de selección de vecino y cálculo de ΔE para Kawasaki ──────────────\n",
    "\n",
    "def RandomMatrixGeneration(L, rng):\n",
    "    \"\"\"\n",
    "    Genera una matriz con enteros aleatorios entre 0 y 3, de forma que cada vez que llamemos a la función generamos una destribucción\n",
    "    de selección de pares aleatoria, única en cada sweep.\n",
    "    \"\"\"\n",
    "    # Generar una matriz de enteros aleatorios entre 0 y 3\n",
    "    return rng.integers(0, 4, size=(L, L))\n",
    "\n",
    "def delta_E_kawasaki(config, i, j, k, l, J=J):\n",
    "    \"\"\"\n",
    "    Calcula el cambio de energía ΔE para un intercambio de espines en la dinámica de Kawasaki.\n",
    "    \"\"\"\n",
    "    #Tomamos variable auxiliar para el cálculo de la energía\n",
    "    # de la configuración inicial y de la configuración final\n",
    "    Aux_1 = config[i,j]\n",
    "    Aux_2 = config[k,l]\n",
    "    #Calculamos la energía de la configuración inicial\n",
    "    E_1 = -J*(Aux_1*(config[i,j-1] + config[(i-1)%L,j] + config[(i+1)%L,j] + config[i,(j+1)%L])+Aux_2*(config[k,(l-1)%L] + config[(k-1)%L,l] + config[(k+1)%L,l] + config[k,(l+1)%L]))\n",
    "    #Ahora intercambiamos el valor de las variables auxiliares\n",
    "    Aux_1 = config[k,l]\n",
    "    Aux_2 = config[i,j]\n",
    "    #Calculamos la energía de la configuración final\n",
    "    E_2 = -J*(Aux_1*(config[i,j-1] + config[(i-1)%L,j] + config[(i+1)%L,j] + config[i,(j+1)%L])+Aux_2*(config[k,(l-1)%L] + config[(k-1)%L,l] + config[(k+1)%L,l] + config[k,(l+1)%L]))\n",
    "    #Calculamos el cambio de energía\n",
    "    delta_E = E_2 - E_1\n",
    "    return delta_E\n",
    "\n"
   ]
  },
  {
   "cell_type": "code",
   "execution_count": 65,
   "id": "7f4f9fbd",
   "metadata": {},
   "outputs": [
    {
     "name": "stderr",
     "output_type": "stream",
     "text": [
      "MC Sweeps: 100%|██████████| 1000/1000 [00:04<00:00, 202.75it/s]"
     ]
    },
    {
     "name": "stdout",
     "output_type": "stream",
     "text": [
      "Simulación completada en 4.94 s\n"
     ]
    },
    {
     "name": "stderr",
     "output_type": "stream",
     "text": [
      "\n"
     ]
    }
   ],
   "source": [
    "# ─── Celda 5: Bucle Monte Carlo y recolección de datos ────────────────────────\n",
    "# Inicializar arrays para almacenar energía y magnetización\n",
    "energies = np.zeros(n_sweeps + 1)\n",
    "magnetizations = np.zeros(n_sweeps + 1)\n",
    "\n",
    "# Medir estado inicial\n",
    "energies[0] = energy(config, J)\n",
    "magnetizations[0] = magnetization(config)\n",
    "\n",
    "# Barrido Monte Carlo\n",
    "start_time = time.time()\n",
    "for sweep in tqdm(range(1, n_sweeps + 1), desc='MC Sweeps'): #Esto es una simple barra de progreso, nada más\n",
    "    #Ahora vamos a barrer la red completa, y en cada interacción vamos a elegir un vecino, fijando así el par a intercambiar.\n",
    "    #Lo primero es generar la matriz de enteros aleatorios entre 0 y 3 para elegir el par de espines a intercambiar\n",
    "    RandomMatrix = RandomMatrixGeneration(L, rng)\n",
    "    #Ahora calculamos las coordenadas de los espines a intercambiar mediante un vector de offsets\n",
    "    offsets = [(0, 1), (0, -1), (1, 0), (-1, 0)] #Al sumar el offset a la posición del espín, obtenemos la posición del espín vecino\n",
    "    #ya que la matriz aleatoria contiene los índices del offset (el desplazamiento).\n",
    "    #Ahora podemos barrer la red para elegir el par de espines a intercambiar.\n",
    "    for i in range (L):\n",
    "        for j in range (L):\n",
    "            #Primero tomamos el índice de la matriz aleatoria en posición (i,j)\n",
    "            d = RandomMatrix[i,j]\n",
    "            #Ahora tomamos el offset correspondiente al índice (di, dj)\n",
    "            di, dj = offsets[d]\n",
    "            #Ahora podemos calcular la posición exacta del espín vecino\n",
    "            ni, nj = (i + di) % L, (j + dj) % L\n",
    "            #Ahora que tenemos la posición del espín vecino, podemos calcular el ΔE\n",
    "            delta_E = delta_E_kawasaki(config, i, j, ni, nj, J)\n",
    "            #Ahora que tenemos el ΔE, podemos decidir si aceptamos o no el movimiento\n",
    "            #La condición básicamente es que para ΔE <= 0, aceptamos el movimiento, ya que de ser así la probabilidad de aceptación es 1.\n",
    "            #Si ΔE > 0, aceptamos el movimiento con probabilidad p = exp(-ΔE/T), y lo más eficiente es generar un número aleatorio entre 0 y 1 y comparar con p, \n",
    "            #ya que si el número aleatorio es menor o igual que p, aceptamos el movimiento.\n",
    "            if delta_E <= 0 or rng.random() < np.exp(- delta_E/T):\n",
    "                # Intercambiar espines\n",
    "                config[i, j], config[ni, nj] = config[ni, nj], config[i, j]\n",
    "    # Registrar observables\n",
    "    energies[sweep] = energy(config, J)\n",
    "    magnetizations[sweep] = magnetization(config)\n",
    "end_time = time.time()\n",
    "\n",
    "print(f\"Simulación completada en {end_time - start_time:.2f} s\")"
   ]
  },
  {
   "cell_type": "code",
   "execution_count": null,
   "id": "fc17a0e5",
   "metadata": {},
   "outputs": [],
   "source": []
  }
 ],
 "metadata": {
  "kernelspec": {
   "display_name": "ising-kawasaki",
   "language": "python",
   "name": "python3"
  },
  "language_info": {
   "codemirror_mode": {
    "name": "ipython",
    "version": 3
   },
   "file_extension": ".py",
   "mimetype": "text/x-python",
   "name": "python",
   "nbconvert_exporter": "python",
   "pygments_lexer": "ipython3",
   "version": "3.12.8"
  }
 },
 "nbformat": 4,
 "nbformat_minor": 5
}
